{
 "cells": [
  {
   "cell_type": "code",
   "execution_count": 1,
   "id": "1bbc7d3b",
   "metadata": {},
   "outputs": [],
   "source": [
    "import pandas as pd"
   ]
  },
  {
   "cell_type": "code",
   "execution_count": 2,
   "id": "4f8edcf3",
   "metadata": {},
   "outputs": [],
   "source": [
    "# Load the dataset\n",
    "df = pd.read_csv('Dataset.csv')"
   ]
  },
  {
   "cell_type": "code",
   "execution_count": 3,
   "id": "e5f326cb",
   "metadata": {},
   "outputs": [],
   "source": [
    "# Assume the column containing the cuisine information is named 'Cuisine'\n",
    "\n",
    "cuisine_counts = df['Cuisines'].value_counts()\n"
   ]
  },
  {
   "cell_type": "code",
   "execution_count": 4,
   "id": "b39095e0",
   "metadata": {},
   "outputs": [],
   "source": [
    "# Get the top three most common cuisines\n",
    "top_cuisines = cuisine_counts.head(3)"
   ]
  },
  {
   "cell_type": "code",
   "execution_count": 5,
   "id": "8b20bd1c",
   "metadata": {},
   "outputs": [],
   "source": [
    "# Calculate the percentage of restaurants that serve each of the top cuisines\n",
    "total_restaurants = len(df)\n",
    "top_cuisines_percent = (top_cuisines / total_restaurants) * 100"
   ]
  },
  {
   "cell_type": "code",
   "execution_count": 6,
   "id": "34f54c61",
   "metadata": {},
   "outputs": [
    {
     "name": "stdout",
     "output_type": "stream",
     "text": [
      "Top 3 Cuisines:\n",
      "North Indian             936\n",
      "North Indian, Chinese    511\n",
      "Chinese                  354\n",
      "Name: Cuisines, dtype: int64\n",
      "\n",
      "Percentage of Restaurants Serving Top 3 Cuisines:\n",
      "North Indian             9.800021\n",
      "North Indian, Chinese    5.350225\n",
      "Chinese                  3.706418\n",
      "Name: Cuisines, dtype: float64\n"
     ]
    }
   ],
   "source": [
    "# Display the results\n",
    "print(\"Top 3 Cuisines:\")\n",
    "print(top_cuisines)\n",
    "print(\"\\nPercentage of Restaurants Serving Top 3 Cuisines:\")\n",
    "print(top_cuisines_percent)"
   ]
  },
  {
   "cell_type": "code",
   "execution_count": null,
   "id": "ccf3c099",
   "metadata": {},
   "outputs": [],
   "source": []
  }
 ],
 "metadata": {
  "kernelspec": {
   "display_name": "Python 3 (ipykernel)",
   "language": "python",
   "name": "python3"
  },
  "language_info": {
   "codemirror_mode": {
    "name": "ipython",
    "version": 3
   },
   "file_extension": ".py",
   "mimetype": "text/x-python",
   "name": "python",
   "nbconvert_exporter": "python",
   "pygments_lexer": "ipython3",
   "version": "3.11.4"
  }
 },
 "nbformat": 4,
 "nbformat_minor": 5
}
