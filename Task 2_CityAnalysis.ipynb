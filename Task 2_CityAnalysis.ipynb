{
 "cells": [
  {
   "cell_type": "code",
   "execution_count": 1,
   "id": "44bb25c9",
   "metadata": {},
   "outputs": [],
   "source": [
    "import pandas as pd"
   ]
  },
  {
   "cell_type": "code",
   "execution_count": 2,
   "id": "31ea205a",
   "metadata": {},
   "outputs": [],
   "source": [
    "# Load the dataset\n",
    "df = pd.read_csv('Dataset.csv')"
   ]
  },
  {
   "cell_type": "code",
   "execution_count": 3,
   "id": "558c4c89",
   "metadata": {},
   "outputs": [],
   "source": [
    "# Assume the column containing city names is 'City' and ratings is 'Rating'\n"
   ]
  },
  {
   "cell_type": "code",
   "execution_count": 4,
   "id": "cdcf3dbf",
   "metadata": {},
   "outputs": [],
   "source": [
    "# 1. Identify the city with the highest number of restaurants\n",
    "city_restaurant_counts = df['City'].value_counts()\n",
    "city_with_most_restaurants = city_restaurant_counts.idxmax()\n"
   ]
  },
  {
   "cell_type": "code",
   "execution_count": 5,
   "id": "91864e39",
   "metadata": {},
   "outputs": [],
   "source": [
    "# 2. Calculate the average rating for restaurants in each city\n",
    "average_city_ratings = df.groupby('City')['Aggregate rating'].mean()"
   ]
  },
  {
   "cell_type": "code",
   "execution_count": 6,
   "id": "85ec3fb1",
   "metadata": {},
   "outputs": [],
   "source": [
    "# 3. Determine the city with the highest average rating\n",
    "city_with_highest_avg_rating = average_city_ratings.idxmax()\n",
    "highest_avg_rating = average_city_ratings.max()"
   ]
  },
  {
   "cell_type": "code",
   "execution_count": 7,
   "id": "2b812f07",
   "metadata": {},
   "outputs": [
    {
     "name": "stdout",
     "output_type": "stream",
     "text": [
      "City with the highest number of restaurants: New Delhi\n",
      "Number of restaurants in that city: 5473\n"
     ]
    }
   ],
   "source": [
    "# Display the results\n",
    "print(f\"City with the highest number of restaurants: {city_with_most_restaurants}\")\n",
    "print(f\"Number of restaurants in that city: {city_restaurant_counts.max()}\")"
   ]
  },
  {
   "cell_type": "code",
   "execution_count": 8,
   "id": "d6efaec4",
   "metadata": {},
   "outputs": [
    {
     "name": "stdout",
     "output_type": "stream",
     "text": [
      "\n",
      "Average Rating for Restaurants in Each City:\n",
      "City\n",
      "Abu Dhabi          4.300000\n",
      "Agra               3.965000\n",
      "Ahmedabad          4.161905\n",
      "Albany             3.555000\n",
      "Allahabad          3.395000\n",
      "                     ...   \n",
      "Weirton            3.900000\n",
      "Wellington City    4.250000\n",
      "Winchester Bay     3.200000\n",
      "Yorkton            3.300000\n",
      "��stanbul          4.292857\n",
      "Name: Aggregate rating, Length: 141, dtype: float64\n"
     ]
    }
   ],
   "source": [
    "print(\"\\nAverage Rating for Restaurants in Each City:\")\n",
    "print(average_city_ratings)"
   ]
  },
  {
   "cell_type": "code",
   "execution_count": 9,
   "id": "d0a22199",
   "metadata": {},
   "outputs": [
    {
     "name": "stdout",
     "output_type": "stream",
     "text": [
      "\n",
      "City with the highest average rating: Inner City\n",
      "Highest average rating: 4.9\n"
     ]
    }
   ],
   "source": [
    "print(f\"\\nCity with the highest average rating: {city_with_highest_avg_rating}\")\n",
    "print(f\"Highest average rating: {highest_avg_rating}\")"
   ]
  },
  {
   "cell_type": "code",
   "execution_count": null,
   "id": "bb01996a",
   "metadata": {},
   "outputs": [],
   "source": []
  }
 ],
 "metadata": {
  "kernelspec": {
   "display_name": "Python 3 (ipykernel)",
   "language": "python",
   "name": "python3"
  },
  "language_info": {
   "codemirror_mode": {
    "name": "ipython",
    "version": 3
   },
   "file_extension": ".py",
   "mimetype": "text/x-python",
   "name": "python",
   "nbconvert_exporter": "python",
   "pygments_lexer": "ipython3",
   "version": "3.11.4"
  }
 },
 "nbformat": 4,
 "nbformat_minor": 5
}
